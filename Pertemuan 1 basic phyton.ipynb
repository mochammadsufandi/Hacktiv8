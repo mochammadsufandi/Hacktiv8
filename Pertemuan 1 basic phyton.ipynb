{
 "cells": [
  {
   "cell_type": "markdown",
   "metadata": {},
   "source": [
    "#Bismillah\n",
    "Coba jupyter notebook"
   ]
  },
  {
   "cell_type": "code",
   "execution_count": 1,
   "metadata": {},
   "outputs": [
    {
     "name": "stdout",
     "output_type": "stream",
     "text": [
      "Integer\n",
      "1234567890\n",
      "<class 'int'>\n",
      "\n",
      "Floating Number\n",
      "0.2345678\n",
      "<class 'float'>\n",
      "\n",
      "String\n",
      "String\n",
      "string dapat dituliskan dengan tanda kutip tunggal (\") atau tanda kutip ganda (')\n",
      "\n",
      "\n",
      "2\n",
      "boolean dari 2 adalah True\n",
      "\n",
      "x + y = 5\n",
      "0.0001 0.0001 0.0001\n",
      "\n",
      "Claude adalah Show me The Money\n",
      "type data Claude adalah <class 'str'>\n",
      "Claude adalah True\n",
      "type data Claude adalah <class 'bool'>\n"
     ]
    }
   ],
   "source": [
    "#Integers (Bilangan Bulat)\n",
    "print(\"Integer\")\n",
    "print(1234567890)\n",
    "print(type(1234567890))\n",
    "print()\n",
    "\n",
    "#Float (Bilangan desimal)\n",
    "print(\"Floating Number\")\n",
    "print(0.2345678)\n",
    "print(type(0.2345678))\n",
    "print()\n",
    "\n",
    "#String\n",
    "print('String')\n",
    "print(\"String\")\n",
    "print('string dapat dituliskan dengan tanda kutip tunggal (\"'\") atau tanda kutip ganda ('\"')')\n",
    "#string juga dapat kosong\n",
    "print('')\n",
    "print()\n",
    "\n",
    "#BOOLEAN\n",
    "print(2)\n",
    "print('boolean dari',2,'adalah',bool(2))\n",
    "print()\n",
    "\n",
    "#Variable Assignment \n",
    "x = 2\n",
    "y = 3\n",
    "print('x + y =', x + y)\n",
    "a=b=c=0.0001\n",
    "print(a,b,c)\n",
    "print()\n",
    "\n",
    "#variable types\n",
    "Claude='Show me The Money'\n",
    "print('Claude adalah',Claude)\n",
    "print('type data Claude adalah',type(Claude))\n",
    "Claude=True\n",
    "print('Claude adalah',Claude)\n",
    "print('type data Claude adalah',type(Claude))"
   ]
  },
  {
   "cell_type": "markdown",
   "metadata": {},
   "source": []
  },
  {
   "cell_type": "markdown",
   "metadata": {},
   "source": [
    "Variables Names"
   ]
  },
  {
   "cell_type": "code",
   "execution_count": 2,
   "metadata": {},
   "outputs": [
    {
     "name": "stdout",
     "output_type": "stream",
     "text": [
      "String 2 2.4 False\n",
      "25\n",
      "26\n",
      "27\n"
     ]
    }
   ],
   "source": [
    "Andi='String'\n",
    "Ayah=2\n",
    "Mama=2.4\n",
    "Kakak=False\n",
    "print(Andi,Ayah,Mama,Kakak)\n",
    "\n",
    "#Nama Variable tidak boleh dimulai dengan angka\n",
    "# Jenis\" Penamaan Variable \n",
    "###Camel Case\n",
    "sheSangTheSong=25\n",
    "print(sheSangTheSong)\n",
    "###Pascal Case\n",
    "SheSangTheSong=26\n",
    "print(SheSangTheSong)\n",
    "###Snake Case\n",
    "she_sang_the_song=27\n",
    "print(she_sang_the_song)"
   ]
  },
  {
   "cell_type": "markdown",
   "metadata": {},
   "source": [
    "Operators and Expression in Phyton"
   ]
  },
  {
   "cell_type": "code",
   "execution_count": 3,
   "metadata": {},
   "outputs": [
    {
     "name": "stdout",
     "output_type": "stream",
     "text": [
      "5\n",
      "-1\n",
      "6\n",
      "0.6666666666666666\n",
      "2\n",
      "8\n"
     ]
    }
   ],
   "source": [
    "X = 2\n",
    "Y = 3\n",
    "#Arithmetic Operation\n",
    "print(X+Y)\n",
    "print(X-Y)\n",
    "print(X*Y)\n",
    "print(X/Y)\n",
    "print(X%Y)\n",
    "print(X**Y)\n"
   ]
  },
  {
   "cell_type": "markdown",
   "metadata": {},
   "source": [
    "COMPARISON OPERATOR"
   ]
  },
  {
   "cell_type": "code",
   "execution_count": 4,
   "metadata": {},
   "outputs": [
    {
     "name": "stdout",
     "output_type": "stream",
     "text": [
      "False\n",
      "True\n",
      "False\n",
      "True\n"
     ]
    }
   ],
   "source": [
    "print(X==Y)\n",
    "print(x!=y)\n",
    "print(X>=Y)\n",
    "print(X<=Y)"
   ]
  },
  {
   "cell_type": "markdown",
   "metadata": {},
   "source": [
    "String Operation/Manipulation"
   ]
  },
  {
   "cell_type": "code",
   "execution_count": 5,
   "metadata": {},
   "outputs": [
    {
     "name": "stdout",
     "output_type": "stream",
     "text": [
      "football\n",
      "Phyton Data Science\n",
      "Phyton Phyton Phyton Phyton Phyton \n",
      "True\n",
      "Real madrid\n",
      "real madrid\n",
      "rEAL mADRID\n",
      "Real Madrid\n",
      "REAL MADRID\n"
     ]
    }
   ],
   "source": [
    "# + operation\n",
    "camelCase='Phyton '\n",
    "PascalCase='Data Science'\n",
    "print('foot'+'ball')\n",
    "print(camelCase+PascalCase)\n",
    "\n",
    "# * operator\n",
    "print(camelCase*5)\n",
    "\n",
    "#in operator\n",
    "j_='Andi'\n",
    "print(j_ in 'Andi sedang makan')\n",
    "\n",
    "#-----------CASE CONVERSION-------------#\n",
    "Fraiss='Real Madrid'\n",
    "\n",
    "#Capitalize \n",
    "print(Fraiss.capitalize())\n",
    "\n",
    "#Lower\n",
    "print(Fraiss.lower())\n",
    "\n",
    "#Swapcase\n",
    "print(Fraiss.swapcase())\n",
    "\n",
    "#Title\n",
    "print(Fraiss.title())\n",
    "\n",
    "#Uppercase\n",
    "print(Fraiss.upper())\n",
    "\n",
    "\n",
    "\n",
    "\n"
   ]
  },
  {
   "cell_type": "markdown",
   "metadata": {},
   "source": [
    "PHYTON LIST"
   ]
  },
  {
   "cell_type": "code",
   "execution_count": 6,
   "metadata": {},
   "outputs": [
    {
     "name": "stdout",
     "output_type": "stream",
     "text": [
      "False\n",
      "1 <class 'int'>\n",
      "SiXiHa <class 'str'>\n",
      "2.45 <class 'float'>\n",
      "True <class 'bool'>\n",
      "\n",
      "1 <class 'int'>\n",
      "SiXiHa <class 'str'>\n",
      "2.45 <class 'float'>\n",
      "True <class 'bool'>\n",
      "['SixiHa', 2.45, True]\n",
      "[1, 'SiXiHa', 2.45, True, 'SixiHa', 2.45, True, 1]\n",
      "[1, 'SiXiHa', 2.45, True, 2.45]\n",
      "[1, 'SiXiHa', 2.45, True, 1, 'SiXiHa', 2.45, True, 1, 'SiXiHa', 2.45, True]\n",
      "4\n",
      "fdew\n",
      "fregre\n"
     ]
    }
   ],
   "source": [
    "Lathe=[1,'SiXiHa',2.45,True]\n",
    "Machine=['SixiHa',2.45,True,1]\n",
    "\n",
    "#List are ordered\n",
    "print(Lathe==Machine)\n",
    "\n",
    "#List elements can be accessed by index\n",
    "#list dengan pengindexan positif\n",
    "print(Lathe[0],type(Lathe[0])) #list can contain arbitrary objects\n",
    "print(Lathe[1],type(Lathe[1]))\n",
    "print(Lathe[2],type(Lathe[2]))\n",
    "print(Lathe[3],type(Lathe[3]))\n",
    "#list dengan pengindexan negatif\n",
    "print()\n",
    "print(Lathe[-4],type(Lathe[-4]))\n",
    "print(Lathe[-3],type(Lathe[-3]))\n",
    "print(Lathe[-2],type(Lathe[-2]))\n",
    "print(Lathe[-1],type(Lathe[-1]))\n",
    "\n",
    "#Slicing List\n",
    "print(Machine[0:3])\n",
    "\n",
    "#concatenation(+) and replication(*) operator in list\n",
    "print(Lathe+Machine)\n",
    "print(Lathe+[2.45])\n",
    "print(Lathe*3)\n",
    "\n",
    "# len(), ------min(), max() ---- urutan sesuai abjad (list harus bertype 'str')\n",
    "Ngawur=['fdew','fdewfg','fregre','fdsfs']\n",
    "print(len(Ngawur))\n",
    "print(min(Ngawur))\n",
    "print(max(Ngawur))\n",
    "\n"
   ]
  },
  {
   "cell_type": "markdown",
   "metadata": {},
   "source": [
    "MODIFYING A SINGLE LIST VALUES"
   ]
  },
  {
   "cell_type": "code",
   "execution_count": 7,
   "metadata": {},
   "outputs": [
    {
     "name": "stdout",
     "output_type": "stream",
     "text": [
      "['Machina', 'SiXiHa', 2.45, False]\n"
     ]
    }
   ],
   "source": [
    "Lathe[0]='Machina'\n",
    "Lathe[3]=False\n",
    "print(Lathe)"
   ]
  },
  {
   "cell_type": "markdown",
   "metadata": {},
   "source": [
    "MODIFYING MULTIPLE LIST VALUES"
   ]
  },
  {
   "cell_type": "code",
   "execution_count": 8,
   "metadata": {},
   "outputs": [
    {
     "name": "stdout",
     "output_type": "stream",
     "text": [
      "['Machina', 'SiXiHa', 2.45, 'qww', 1.22, 3]\n",
      "['SixiHa', 2.45, True, 1]\n",
      "['SixiHa', 2.45, 3, 4, 1]\n"
     ]
    }
   ],
   "source": [
    "Lathe[0:6]=Lathe[0:3]+['qww',1.22,3]\n",
    "print(Lathe)\n",
    "print(Machine)\n",
    "Machine[2:3]=[3,4]\n",
    "print(Machine)"
   ]
  },
  {
   "cell_type": "markdown",
   "metadata": {},
   "source": [
    "PYTHON TUPLES"
   ]
  },
  {
   "cell_type": "code",
   "execution_count": 9,
   "metadata": {},
   "outputs": [
    {
     "name": "stdout",
     "output_type": "stream",
     "text": [
      "dsds\n",
      "1\n"
     ]
    }
   ],
   "source": [
    "ML=('dsds','afd','asfdf','sssd')\n",
    "print(ML[0])\n",
    "(a,b,c)=(1,2,3)\n",
    "print(a)"
   ]
  },
  {
   "cell_type": "markdown",
   "metadata": {},
   "source": [
    "DICTIONARY"
   ]
  },
  {
   "cell_type": "code",
   "execution_count": 19,
   "metadata": {},
   "outputs": [
    {
     "name": "stdout",
     "output_type": "stream",
     "text": [
      "<class 'int'>\n",
      "PSG\n",
      "Real Madrid\n",
      "Juventus\n",
      "{'Spain': 'Real Madrid', 'France': 'PSG', 'Portugal': 'FC Porto', 'Turkey': 'Galatasaray', 'Indonesia': 222}\n"
     ]
    }
   ],
   "source": [
    "FC={\n",
    "    'Spain':'Real Madrid',\n",
    "    'France':'PSG',\n",
    "    'Portugal':'FC Porto',\n",
    "    'Turkey':'Galatasaray',\n",
    "    'Indonesia':222\n",
    "}\n",
    "print(type(FC['Indonesia']))\n",
    "print(FC['France'])\n",
    "print(FC.get('Spain'))\n",
    "print(FC.get('Italia','Juventus'))"
   ]
  },
  {
   "cell_type": "markdown",
   "metadata": {},
   "source": [
    "Adding an entry to an existing dictionary"
   ]
  },
  {
   "cell_type": "code",
   "execution_count": 11,
   "metadata": {},
   "outputs": [
    {
     "name": "stdout",
     "output_type": "stream",
     "text": [
      "{'Spain': 'Real Madrid', 'France': 'PSG', 'Portugal': 'FC Porto', 'Turkey': 'Galatasaray', 'Indonesia': 222, 'England': 'Chelsea', 'Club Spain': {'Barcelona', 'Atletico Madrid'}, 22: 33}\n"
     ]
    }
   ],
   "source": [
    "FC['England']='Chelsea'\n",
    "FC['Club Spain']={'Barcelona','Atletico Madrid'}\n",
    "FC[22]=33\n",
    "print(FC)\n"
   ]
  },
  {
   "cell_type": "markdown",
   "metadata": {},
   "source": [
    "Update an entry in dictionary"
   ]
  },
  {
   "cell_type": "code",
   "execution_count": 12,
   "metadata": {},
   "outputs": [
    {
     "name": "stdout",
     "output_type": "stream",
     "text": [
      "{'Spain': 'Real Madrid', 'France': 'PSG', 'Portugal': 'FC Porto', 'Turkey': 'Galatasaray', 'Indonesia': 222, 'England': 'Chelsea', 'Club Spain': 'Barcelona FC', 22: 33}\n"
     ]
    }
   ],
   "source": [
    "FC['Club Spain']='Barcelona FC'\n",
    "print(FC)"
   ]
  },
  {
   "cell_type": "markdown",
   "metadata": {},
   "source": [
    "Delete an entry in dictionary"
   ]
  },
  {
   "cell_type": "code",
   "execution_count": 13,
   "metadata": {},
   "outputs": [
    {
     "name": "stdout",
     "output_type": "stream",
     "text": [
      "{'Spain': 'Real Madrid', 'France': 'PSG', 'Portugal': 'FC Porto', 'Turkey': 'Galatasaray', 'Indonesia': 222, 'England': 'Chelsea', 22: 33}\n"
     ]
    }
   ],
   "source": [
    "del FC['Club Spain']\n",
    "print(FC)"
   ]
  },
  {
   "cell_type": "markdown",
   "metadata": {},
   "source": [
    "Line Continuation"
   ]
  },
  {
   "cell_type": "code",
   "execution_count": 4,
   "metadata": {},
   "outputs": [
    {
     "name": "stdout",
     "output_type": "stream",
     "text": [
      "True\n"
     ]
    }
   ],
   "source": [
    "mahasiswa1 = 82\n",
    "mahasiswa2 = 78\n",
    "mahasiswa3 = 94\n",
    "nilaiDapatA = (mahasiswa1>=76 and mahasiswa1<=100) or (mahasiswa2>=76 and mahasiswa2<=100) or (mahasiswa3>=76 and mahasiswa3<=100)\n",
    "print(nilaiDapatA)"
   ]
  },
  {
   "cell_type": "markdown",
   "metadata": {},
   "source": [
    "Building a Dictionary Incrementally\n",
    "#COBA looping"
   ]
  },
  {
   "cell_type": "code",
   "execution_count": 30,
   "metadata": {},
   "outputs": [],
   "source": [
    "from turtle import end_fill\n",
    "\n",
    "\n",
    "MLBB = {\n",
    "        'INA':'RRQ HOSHI',\n",
    "        'PHI':'Blacklist',\n",
    "        'MALAY':'TODAK',\n",
    "        'MYANMAR':'BG'\n",
    "}\n"
   ]
  },
  {
   "cell_type": "markdown",
   "metadata": {},
   "source": [
    "Looping untuk menuliskan keys pada dictionary\n"
   ]
  },
  {
   "cell_type": "code",
   "execution_count": 34,
   "metadata": {},
   "outputs": [
    {
     "name": "stdout",
     "output_type": "stream",
     "text": [
      "INA\n",
      "PHI\n",
      "MALAY\n",
      "MYANMAR\n",
      "INA\n",
      "PHI\n",
      "MALAY\n",
      "MYANMAR\n"
     ]
    }
   ],
   "source": [
    "for i in MLBB :\n",
    "    print(i)\n",
    "# Cara Lain\n",
    "for j in MLBB.keys() :\n",
    "    print(j)"
   ]
  },
  {
   "cell_type": "markdown",
   "metadata": {},
   "source": [
    "Looping untuk menuliskan values pada dictionary"
   ]
  },
  {
   "cell_type": "code",
   "execution_count": 32,
   "metadata": {},
   "outputs": [
    {
     "name": "stdout",
     "output_type": "stream",
     "text": [
      "RRQ HOSHI\n",
      "Blacklist\n",
      "TODAK\n",
      "BG\n",
      "RRQ HOSHI\n",
      "Blacklist\n",
      "TODAK\n",
      "BG\n"
     ]
    }
   ],
   "source": [
    "for i in MLBB :\n",
    "    print(MLBB[i])\n",
    "#Cara Lain\n",
    "for j in MLBB.values() :\n",
    "    print(j)"
   ]
  },
  {
   "cell_type": "markdown",
   "metadata": {},
   "source": [
    "Looping untuk menuliskan key : values dictionary"
   ]
  },
  {
   "cell_type": "code",
   "execution_count": 36,
   "metadata": {},
   "outputs": [
    {
     "name": "stdout",
     "output_type": "stream",
     "text": [
      "INA : RRQ HOSHI\n",
      "PHI : Blacklist\n",
      "MALAY : TODAK\n",
      "MYANMAR : BG\n"
     ]
    }
   ],
   "source": [
    "for x,y in MLBB.items() :\n",
    "    print(x,':',y)"
   ]
  }
 ],
 "metadata": {
  "kernelspec": {
   "display_name": "Python 3.10.5 64-bit",
   "language": "python",
   "name": "python3"
  },
  "language_info": {
   "codemirror_mode": {
    "name": "ipython",
    "version": 3
   },
   "file_extension": ".py",
   "mimetype": "text/x-python",
   "name": "python",
   "nbconvert_exporter": "python",
   "pygments_lexer": "ipython3",
   "version": "3.10.5"
  },
  "orig_nbformat": 4,
  "vscode": {
   "interpreter": {
    "hash": "26de051ba29f2982a8de78e945f0abaf191376122a1563185a90213a26c5da77"
   }
  }
 },
 "nbformat": 4,
 "nbformat_minor": 2
}
